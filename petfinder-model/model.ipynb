{
 "cells": [
  {
   "cell_type": "code",
   "execution_count": 66,
   "metadata": {},
   "outputs": [],
   "source": [
    "from sklearn.model_selection import train_test_split\n",
    "from sklearn.ensemble import RandomForestRegressor\n",
    "from sklearn.metrics import (mean_squared_error, mean_absolute_error, r2_score)\n",
    "from sklearn.model_selection import RandomizedSearchCV\n",
    "\n",
    "import matplotlib.pyplot as plt\n",
    "import pandas as pd\n",
    "import numpy as np"
   ]
  },
  {
   "cell_type": "code",
   "execution_count": 67,
   "metadata": {},
   "outputs": [],
   "source": [
    "df_raw = pd.read_pickle(\"data/preprocessed_data.pkl\")"
   ]
  },
  {
   "cell_type": "code",
   "execution_count": 68,
   "metadata": {},
   "outputs": [
    {
     "data": {
      "text/plain": [
       "Index(['age', 'size', 'organization_name', 'published_at', 'status_changed_at',\n",
       "       'los', 'breed_secondary', 'breed_mixed', 'good_with_children',\n",
       "       'good_with_dogs',\n",
       "       ...\n",
       "       'color_secondary_Merle (Red)',\n",
       "       'color_secondary_Red / Chestnut / Orange', 'color_secondary_Sable',\n",
       "       'color_secondary_Tricolor (Brown, Black, & White)',\n",
       "       'color_secondary_White / Cream',\n",
       "       'color_secondary_Yellow / Tan / Blond / Fawn',\n",
       "       'color_tertiary_Brown / Chocolate',\n",
       "       'color_tertiary_Red / Chestnut / Orange',\n",
       "       'color_tertiary_White / Cream',\n",
       "       'color_tertiary_Yellow / Tan / Blond / Fawn'],\n",
       "      dtype='object', length=129)"
      ]
     },
     "execution_count": 68,
     "metadata": {},
     "output_type": "execute_result"
    }
   ],
   "source": [
    "df_raw.columns"
   ]
  },
  {
   "cell_type": "code",
   "execution_count": 73,
   "metadata": {},
   "outputs": [
    {
     "name": "stdout",
     "output_type": "stream",
     "text": [
      "     age  size                         organization_name  \\\n",
      "0      1     0  Friends of Chicago Animal Care & Control   \n",
      "1      1     0  Friends of Chicago Animal Care & Control   \n",
      "2      2     0  Friends of Chicago Animal Care & Control   \n",
      "3      2     0  Friends of Chicago Animal Care & Control   \n",
      "4      2     2  Friends of Chicago Animal Care & Control   \n",
      "..   ...   ...                                       ...   \n",
      "995    2     1           Chicago Animal Care and Control   \n",
      "996    1     0           Chicago Animal Care and Control   \n",
      "997    1     1           Chicago Animal Care and Control   \n",
      "998    2     1           Chicago Animal Care and Control   \n",
      "999    1     2           Chicago Animal Care and Control   \n",
      "\n",
      "                 published_at         status_changed_at  los  \\\n",
      "0   2017-04-13 22:22:16+00:00 2017-05-11 17:41:38+00:00   27   \n",
      "1   2017-04-17 21:12:27+00:00 2017-04-25 02:33:04+00:00    7   \n",
      "2   2017-04-17 21:44:31+00:00 2017-04-25 02:31:52+00:00    7   \n",
      "3   2017-06-07 22:25:36+00:00 2017-08-03 17:02:39+00:00   56   \n",
      "4   2017-12-14 19:41:06+00:00 2018-02-06 19:38:45+00:00   53   \n",
      "..                        ...                       ...  ...   \n",
      "995 2020-02-12 17:12:11+00:00 2020-03-25 01:52:09+00:00   41   \n",
      "996 2011-03-11 14:43:49+00:00 2011-04-20 22:10:44+00:00   40   \n",
      "997 2011-03-11 14:47:03+00:00 2011-04-18 17:54:52+00:00   38   \n",
      "998 2020-02-12 17:15:45+00:00 2020-03-09 15:14:26+00:00   25   \n",
      "999 2011-03-11 14:53:33+00:00 2011-03-28 18:50:34+00:00   17   \n",
      "\n",
      "      breed_secondary  breed_mixed  good_with_children  good_with_dogs  ...  \\\n",
      "0              Poodle            1                   0               0  ...   \n",
      "1                None            0                   0               0  ...   \n",
      "2              Poodle            1                   0               0  ...   \n",
      "3                None            0                   0               0  ...   \n",
      "4                None            0                   0               0  ...   \n",
      "..                ...          ...                 ...             ...  ...   \n",
      "995              None            1                   0               1  ...   \n",
      "996              None            0                   0               0  ...   \n",
      "997              None            1                   0               0  ...   \n",
      "998              None            1                   0               0  ...   \n",
      "999  Pit Bull Terrier            1                   0               0  ...   \n",
      "\n",
      "     color_secondary_Merle (Red)  color_secondary_Red / Chestnut / Orange  \\\n",
      "0                              0                                        0   \n",
      "1                              0                                        0   \n",
      "2                              0                                        0   \n",
      "3                              0                                        0   \n",
      "4                              0                                        0   \n",
      "..                           ...                                      ...   \n",
      "995                            0                                        0   \n",
      "996                            0                                        0   \n",
      "997                            0                                        0   \n",
      "998                            0                                        0   \n",
      "999                            0                                        0   \n",
      "\n",
      "     color_secondary_Sable  color_secondary_Tricolor (Brown, Black, & White)  \\\n",
      "0                        0                                                 0   \n",
      "1                        0                                                 0   \n",
      "2                        0                                                 0   \n",
      "3                        0                                                 0   \n",
      "4                        0                                                 0   \n",
      "..                     ...                                               ...   \n",
      "995                      0                                                 0   \n",
      "996                      0                                                 0   \n",
      "997                      0                                                 0   \n",
      "998                      0                                                 0   \n",
      "999                      0                                                 0   \n",
      "\n",
      "     color_secondary_White / Cream  \\\n",
      "0                                0   \n",
      "1                                0   \n",
      "2                                0   \n",
      "3                                0   \n",
      "4                                0   \n",
      "..                             ...   \n",
      "995                              1   \n",
      "996                              0   \n",
      "997                              0   \n",
      "998                              0   \n",
      "999                              0   \n",
      "\n",
      "     color_secondary_Yellow / Tan / Blond / Fawn  \\\n",
      "0                                              0   \n",
      "1                                              0   \n",
      "2                                              0   \n",
      "3                                              0   \n",
      "4                                              0   \n",
      "..                                           ...   \n",
      "995                                            0   \n",
      "996                                            0   \n",
      "997                                            0   \n",
      "998                                            0   \n",
      "999                                            0   \n",
      "\n",
      "     color_tertiary_Brown / Chocolate  color_tertiary_Red / Chestnut / Orange  \\\n",
      "0                                   0                                       0   \n",
      "1                                   0                                       0   \n",
      "2                                   0                                       0   \n",
      "3                                   0                                       0   \n",
      "4                                   0                                       0   \n",
      "..                                ...                                     ...   \n",
      "995                                 0                                       0   \n",
      "996                                 0                                       0   \n",
      "997                                 0                                       0   \n",
      "998                                 0                                       0   \n",
      "999                                 0                                       0   \n",
      "\n",
      "     color_tertiary_White / Cream  color_tertiary_Yellow / Tan / Blond / Fawn  \n",
      "0                               0                                           0  \n",
      "1                               0                                           0  \n",
      "2                               0                                           0  \n",
      "3                               0                                           0  \n",
      "4                               0                                           0  \n",
      "..                            ...                                         ...  \n",
      "995                             0                                           0  \n",
      "996                             0                                           0  \n",
      "997                             0                                           0  \n",
      "998                             0                                           0  \n",
      "999                             0                                           0  \n",
      "\n",
      "[1000 rows x 129 columns]\n"
     ]
    }
   ],
   "source": [
    "# y = df_raw[\"los\"]\n",
    "\n",
    "# features = [\n",
    "#     \"age\",\n",
    "#     \"size\",\n",
    "#     # \"organization_name\",\n",
    "#     # \"published_at\",\n",
    "#     # \"status_changed_at\",\n",
    "#     # \"los\",\n",
    "#     # \"breed_secondary\",\n",
    "#     \"breed_mixed\",\n",
    "#     \"good_with_children\",\n",
    "#     \"good_with_dogs\",\n",
    "#     \"good_with_cats\",\n",
    "#     \"attribute_spayed_neutered\",\n",
    "#     \"attribute_house_trained\",\n",
    "#     \"attribute_special_needs\",\n",
    "#     \"attribute_shots_current\",\n",
    "#     \"breed_primary_Akita\",\n",
    "#     \"breed_primary_Alaskan Malamute\",\n",
    "#     \"breed_primary_American Bulldog\",\n",
    "#     \"breed_primary_American Eskimo Dog\",\n",
    "#     \"breed_primary_American Staffordshire Terrier\",\n",
    "#     \"breed_primary_Australian Cattle Dog / Blue Heeler\",\n",
    "#     \"breed_primary_Australian Shepherd\",\n",
    "#     \"breed_primary_Basenji\",\n",
    "#     \"breed_primary_Beagle\",\n",
    "#     \"breed_primary_Belgian Shepherd / Malinois\",\n",
    "#     \"breed_primary_Bichon Frise\",\n",
    "#     \"breed_primary_Black Labrador Retriever\",\n",
    "#     \"breed_primary_Black and Tan Coonhound\",\n",
    "#     \"breed_primary_Border Collie\",\n",
    "#     \"breed_primary_Border Terrier\",\n",
    "#     \"breed_primary_Boston Terrier\",\n",
    "#     \"breed_primary_Boxer\",\n",
    "#     \"breed_primary_Brussels Griffon\",\n",
    "#     \"breed_primary_Bull Terrier\",\n",
    "#     \"breed_primary_Cairn Terrier\",\n",
    "#     \"breed_primary_Cane Corso\",\n",
    "#     \"breed_primary_Cattle Dog\",\n",
    "#     \"breed_primary_Cavalier King Charles Spaniel\",\n",
    "#     \"breed_primary_Chihuahua\",\n",
    "#     \"breed_primary_Chow Chow\",\n",
    "#     \"breed_primary_Cocker Spaniel\",\n",
    "#     \"breed_primary_Collie\",\n",
    "#     \"breed_primary_Corgi\",\n",
    "#     \"breed_primary_Dachshund\",\n",
    "#     \"breed_primary_Dalmatian\",\n",
    "#     \"breed_primary_Dandie Dinmont Terrier\",\n",
    "#     \"breed_primary_Doberman Pinscher\",\n",
    "#     \"breed_primary_English Bulldog\",\n",
    "#     \"breed_primary_Fox Terrier\",\n",
    "#     \"breed_primary_French Bulldog\",\n",
    "#     \"breed_primary_German Shepherd Dog\",\n",
    "#     \"breed_primary_German Shorthaired Pointer\",\n",
    "#     \"breed_primary_Golden Retriever\",\n",
    "#     \"breed_primary_Goldendoodle\",\n",
    "#     \"breed_primary_Great Dane\",\n",
    "#     \"breed_primary_Great Pyrenees\",\n",
    "#     \"breed_primary_Greyhound\",\n",
    "#     \"breed_primary_Havanese\",\n",
    "#     \"breed_primary_Hound\",\n",
    "#     \"breed_primary_Husky\",\n",
    "#     \"breed_primary_Jack Russell Terrier\",\n",
    "#     \"breed_primary_Labrador Retriever\",\n",
    "#     \"breed_primary_Lhasa Apso\",\n",
    "#     \"breed_primary_Maltese\",\n",
    "#     \"breed_primary_Manchester Terrier\",\n",
    "#     \"breed_primary_Mastiff\",\n",
    "#     \"breed_primary_Miniature Pinscher\",\n",
    "#     \"breed_primary_Miniature Schnauzer\",\n",
    "#     \"breed_primary_Pekingese\",\n",
    "#     \"breed_primary_Pembroke Welsh Corgi\",\n",
    "#     \"breed_primary_Pit Bull Terrier\",\n",
    "#     \"breed_primary_Pointer\",\n",
    "#     \"breed_primary_Pomeranian\",\n",
    "#     \"breed_primary_Poodle\",\n",
    "#     \"breed_primary_Pug\",\n",
    "#     \"breed_primary_Rat Terrier\",\n",
    "#     \"breed_primary_Retriever\",\n",
    "#     \"breed_primary_Rhodesian Ridgeback\",\n",
    "#     \"breed_primary_Rottweiler\",\n",
    "#     \"breed_primary_Saint Bernard\",\n",
    "#     \"breed_primary_Schipperke\",\n",
    "#     \"breed_primary_Schnauzer\",\n",
    "#     \"breed_primary_Shar-Pei\",\n",
    "#     \"breed_primary_Shepherd\",\n",
    "#     \"breed_primary_Shetland Sheepdog / Sheltie\",\n",
    "#     \"breed_primary_Shiba Inu\",\n",
    "#     \"breed_primary_Shih Tzu\",\n",
    "#     \"breed_primary_Shih poo\",\n",
    "#     \"breed_primary_Siberian Husky\",\n",
    "#     \"breed_primary_Spaniel\",\n",
    "#     \"breed_primary_Staffordshire Bull Terrier\",\n",
    "#     \"breed_primary_Terrier\",\n",
    "#     \"breed_primary_Vizsla\",\n",
    "#     \"breed_primary_West Highland White Terrier / Westie\",\n",
    "#     \"breed_primary_Wheaten Terrier\",\n",
    "#     \"breed_primary_Yellow Labrador Retriever\",\n",
    "#     \"breed_primary_Yorkshire Terrier\",\n",
    "#     \"gender_Female\",\n",
    "#     \"gender_Male\",\n",
    "#     \"coat_Curly\",\n",
    "#     \"coat_Long\",\n",
    "#     \"coat_Medium\",\n",
    "#     \"coat_Short\",\n",
    "#     \"coat_Wire\",\n",
    "#     \"color_primary_Apricot / Beige\",\n",
    "#     \"color_primary_Bicolor\",\n",
    "#     \"color_primary_Black\",\n",
    "#     \"color_primary_Brindle\",\n",
    "#     \"color_primary_Brown / Chocolate\",\n",
    "#     \"color_primary_Golden\",\n",
    "#     \"color_primary_Gray / Blue / Silver\",\n",
    "#     \"color_primary_Merle (Blue)\",\n",
    "#     \"color_primary_Merle (Red)\",\n",
    "#     \"color_primary_Red / Chestnut / Orange\",\n",
    "#     \"color_primary_Sable\",\n",
    "#     \"color_primary_Tricolor (Brown, Black, & White)\",\n",
    "#     \"color_primary_White / Cream\",\n",
    "#     \"color_primary_Yellow / Tan / Blond / Fawn\",\n",
    "#     \"color_secondary_Apricot / Beige\",\n",
    "#     \"color_secondary_Black\",\n",
    "#     \"color_secondary_Brindle\",\n",
    "#     \"color_secondary_Brown / Chocolate\",\n",
    "#     \"color_secondary_Golden\",\n",
    "#     \"color_secondary_Gray / Blue / Silver\",\n",
    "#     \"color_secondary_Merle (Blue)\",\n",
    "#     \"color_secondary_Merle (Red)\",\n",
    "#     \"color_secondary_Red / Chestnut / Orange\",\n",
    "#     \"color_secondary_Tricolor (Brown, Black, & White)\",\n",
    "#     \"color_secondary_White / Cream\",\n",
    "#     \"color_secondary_Yellow / Tan / Blond / Fawn\",\n",
    "#     \"color_tertiary_Brown / Chocolate\",\n",
    "#     \"color_tertiary_Red / Chestnut / Orange\",\n",
    "#     \"color_tertiary_White / Cream\",\n",
    "#     \"color_tertiary_Yellow / Tan / Blond / Fawn\",\n",
    "# ]\n",
    "# X = df_raw[features]\n",
    "\n",
    "y = df_raw[\"los\"]\n",
    "\n",
    "X = df_raw[df_raw.columns]\n",
    "print(X)\n"
   ]
  },
  {
   "cell_type": "code",
   "execution_count": 70,
   "metadata": {},
   "outputs": [],
   "source": [
    "# split data into training and testing data\n",
    "X_train, X_test, y_train, y_test = train_test_split(X, y, test_size=0.33, random_state=312)"
   ]
  },
  {
   "cell_type": "code",
   "execution_count": 71,
   "metadata": {},
   "outputs": [],
   "source": [
    "# set up hyperparameter search space for the random forest regressor\n",
    "random_grid = {\n",
    "    \"bootstrap\": [True, False],\n",
    "    \"max_depth\": [int(x) for x in np.linspace(10, 110, num=11)],\n",
    "    \"max_features\": [\"auto\", \"sqrt\", \"log2\"],\n",
    "    # \"max_leaf_nodes\": None,\n",
    "    # \"max_samples\": None,\n",
    "    # \"min_impurity_decrease\": 0.0,\n",
    "    \"min_samples_leaf\": [1, 2, 4, 8],\n",
    "    \"min_samples_split\": [2, 4, 8, 16],\n",
    "    # \"min_weight_fraction_leaf\": 0.0,\n",
    "    \"n_estimators\": [int(x) for x in np.linspace(start=200, stop=2000, num=10)],\n",
    "}"
   ]
  },
  {
   "cell_type": "code",
   "execution_count": 72,
   "metadata": {},
   "outputs": [
    {
     "ename": "ValueError",
     "evalue": "\nAll the 500 fits failed.\nIt is very likely that your model is misconfigured.\nYou can try to debug the error by setting error_score='raise'.\n\nBelow are more details about the failures:\n--------------------------------------------------------------------------------\n100 fits failed with the following error:\nTraceback (most recent call last):\n  File \"/home/jayyxamian/.pyenv/versions/3.9.4/lib/python3.9/site-packages/sklearn/model_selection/_validation.py\", line 686, in _fit_and_score\n    estimator.fit(X_train, y_train, **fit_params)\n  File \"/home/jayyxamian/.pyenv/versions/3.9.4/lib/python3.9/site-packages/sklearn/ensemble/_forest.py\", line 331, in fit\n    X, y = self._validate_data(\n  File \"/home/jayyxamian/.pyenv/versions/3.9.4/lib/python3.9/site-packages/sklearn/base.py\", line 596, in _validate_data\n    X, y = check_X_y(X, y, **check_params)\n  File \"/home/jayyxamian/.pyenv/versions/3.9.4/lib/python3.9/site-packages/sklearn/utils/validation.py\", line 1074, in check_X_y\n    X = check_array(\n  File \"/home/jayyxamian/.pyenv/versions/3.9.4/lib/python3.9/site-packages/sklearn/utils/validation.py\", line 856, in check_array\n    array = np.asarray(array, order=order, dtype=dtype)\n  File \"/home/jayyxamian/.pyenv/versions/3.9.4/lib/python3.9/site-packages/pandas/core/generic.py\", line 2070, in __array__\n    return np.asarray(self._values, dtype=dtype)\nValueError: could not convert string to float: 'Friends of Chicago Animal Care & Control'\n\n--------------------------------------------------------------------------------\n400 fits failed with the following error:\nTraceback (most recent call last):\n  File \"/home/jayyxamian/.pyenv/versions/3.9.4/lib/python3.9/site-packages/sklearn/model_selection/_validation.py\", line 686, in _fit_and_score\n    estimator.fit(X_train, y_train, **fit_params)\n  File \"/home/jayyxamian/.pyenv/versions/3.9.4/lib/python3.9/site-packages/sklearn/ensemble/_forest.py\", line 331, in fit\n    X, y = self._validate_data(\n  File \"/home/jayyxamian/.pyenv/versions/3.9.4/lib/python3.9/site-packages/sklearn/base.py\", line 596, in _validate_data\n    X, y = check_X_y(X, y, **check_params)\n  File \"/home/jayyxamian/.pyenv/versions/3.9.4/lib/python3.9/site-packages/sklearn/utils/validation.py\", line 1074, in check_X_y\n    X = check_array(\n  File \"/home/jayyxamian/.pyenv/versions/3.9.4/lib/python3.9/site-packages/sklearn/utils/validation.py\", line 856, in check_array\n    array = np.asarray(array, order=order, dtype=dtype)\n  File \"/home/jayyxamian/.pyenv/versions/3.9.4/lib/python3.9/site-packages/pandas/core/generic.py\", line 2070, in __array__\n    return np.asarray(self._values, dtype=dtype)\nValueError: could not convert string to float: 'Chicago Animal Care and Control'\n",
     "output_type": "error",
     "traceback": [
      "\u001b[0;31m---------------------------------------------------------------------------\u001b[0m",
      "\u001b[0;31mValueError\u001b[0m                                Traceback (most recent call last)",
      "Cell \u001b[0;32mIn[72], line 5\u001b[0m\n\u001b[1;32m      2\u001b[0m regr \u001b[39m=\u001b[39m RandomForestRegressor(max_depth\u001b[39m=\u001b[39m\u001b[39m5\u001b[39m, random_state\u001b[39m=\u001b[39m\u001b[39m312\u001b[39m, criterion\u001b[39m=\u001b[39m\u001b[39m\"\u001b[39m\u001b[39msquared_error\u001b[39m\u001b[39m\"\u001b[39m)\n\u001b[1;32m      3\u001b[0m regr_random \u001b[39m=\u001b[39m RandomizedSearchCV(estimator\u001b[39m=\u001b[39mregr, param_distributions\u001b[39m=\u001b[39mrandom_grid, n_iter\u001b[39m=\u001b[39m\u001b[39m100\u001b[39m, cv\u001b[39m=\u001b[39m\u001b[39m5\u001b[39m, random_state\u001b[39m=\u001b[39m\u001b[39m312\u001b[39m, n_jobs\u001b[39m=\u001b[39m\u001b[39m-\u001b[39m\u001b[39m1\u001b[39m)\n\u001b[0;32m----> 5\u001b[0m regr_random\u001b[39m.\u001b[39;49mfit(X_train, y_train)\n",
      "File \u001b[0;32m~/.pyenv/versions/3.9.4/lib/python3.9/site-packages/sklearn/model_selection/_search.py:875\u001b[0m, in \u001b[0;36mBaseSearchCV.fit\u001b[0;34m(self, X, y, groups, **fit_params)\u001b[0m\n\u001b[1;32m    869\u001b[0m     results \u001b[39m=\u001b[39m \u001b[39mself\u001b[39m\u001b[39m.\u001b[39m_format_results(\n\u001b[1;32m    870\u001b[0m         all_candidate_params, n_splits, all_out, all_more_results\n\u001b[1;32m    871\u001b[0m     )\n\u001b[1;32m    873\u001b[0m     \u001b[39mreturn\u001b[39;00m results\n\u001b[0;32m--> 875\u001b[0m \u001b[39mself\u001b[39;49m\u001b[39m.\u001b[39;49m_run_search(evaluate_candidates)\n\u001b[1;32m    877\u001b[0m \u001b[39m# multimetric is determined here because in the case of a callable\u001b[39;00m\n\u001b[1;32m    878\u001b[0m \u001b[39m# self.scoring the return type is only known after calling\u001b[39;00m\n\u001b[1;32m    879\u001b[0m first_test_score \u001b[39m=\u001b[39m all_out[\u001b[39m0\u001b[39m][\u001b[39m\"\u001b[39m\u001b[39mtest_scores\u001b[39m\u001b[39m\"\u001b[39m]\n",
      "File \u001b[0;32m~/.pyenv/versions/3.9.4/lib/python3.9/site-packages/sklearn/model_selection/_search.py:1753\u001b[0m, in \u001b[0;36mRandomizedSearchCV._run_search\u001b[0;34m(self, evaluate_candidates)\u001b[0m\n\u001b[1;32m   1751\u001b[0m \u001b[39mdef\u001b[39;00m \u001b[39m_run_search\u001b[39m(\u001b[39mself\u001b[39m, evaluate_candidates):\n\u001b[1;32m   1752\u001b[0m \u001b[39m    \u001b[39m\u001b[39m\"\"\"Search n_iter candidates from param_distributions\"\"\"\u001b[39;00m\n\u001b[0;32m-> 1753\u001b[0m     evaluate_candidates(\n\u001b[1;32m   1754\u001b[0m         ParameterSampler(\n\u001b[1;32m   1755\u001b[0m             \u001b[39mself\u001b[39;49m\u001b[39m.\u001b[39;49mparam_distributions, \u001b[39mself\u001b[39;49m\u001b[39m.\u001b[39;49mn_iter, random_state\u001b[39m=\u001b[39;49m\u001b[39mself\u001b[39;49m\u001b[39m.\u001b[39;49mrandom_state\n\u001b[1;32m   1756\u001b[0m         )\n\u001b[1;32m   1757\u001b[0m     )\n",
      "File \u001b[0;32m~/.pyenv/versions/3.9.4/lib/python3.9/site-packages/sklearn/model_selection/_search.py:852\u001b[0m, in \u001b[0;36mBaseSearchCV.fit.<locals>.evaluate_candidates\u001b[0;34m(candidate_params, cv, more_results)\u001b[0m\n\u001b[1;32m    845\u001b[0m \u001b[39melif\u001b[39;00m \u001b[39mlen\u001b[39m(out) \u001b[39m!=\u001b[39m n_candidates \u001b[39m*\u001b[39m n_splits:\n\u001b[1;32m    846\u001b[0m     \u001b[39mraise\u001b[39;00m \u001b[39mValueError\u001b[39;00m(\n\u001b[1;32m    847\u001b[0m         \u001b[39m\"\u001b[39m\u001b[39mcv.split and cv.get_n_splits returned \u001b[39m\u001b[39m\"\u001b[39m\n\u001b[1;32m    848\u001b[0m         \u001b[39m\"\u001b[39m\u001b[39minconsistent results. Expected \u001b[39m\u001b[39m{}\u001b[39;00m\u001b[39m \u001b[39m\u001b[39m\"\u001b[39m\n\u001b[1;32m    849\u001b[0m         \u001b[39m\"\u001b[39m\u001b[39msplits, got \u001b[39m\u001b[39m{}\u001b[39;00m\u001b[39m\"\u001b[39m\u001b[39m.\u001b[39mformat(n_splits, \u001b[39mlen\u001b[39m(out) \u001b[39m/\u001b[39m\u001b[39m/\u001b[39m n_candidates)\n\u001b[1;32m    850\u001b[0m     )\n\u001b[0;32m--> 852\u001b[0m _warn_or_raise_about_fit_failures(out, \u001b[39mself\u001b[39;49m\u001b[39m.\u001b[39;49merror_score)\n\u001b[1;32m    854\u001b[0m \u001b[39m# For callable self.scoring, the return type is only know after\u001b[39;00m\n\u001b[1;32m    855\u001b[0m \u001b[39m# calling. If the return type is a dictionary, the error scores\u001b[39;00m\n\u001b[1;32m    856\u001b[0m \u001b[39m# can now be inserted with the correct key. The type checking\u001b[39;00m\n\u001b[1;32m    857\u001b[0m \u001b[39m# of out will be done in `_insert_error_scores`.\u001b[39;00m\n\u001b[1;32m    858\u001b[0m \u001b[39mif\u001b[39;00m callable(\u001b[39mself\u001b[39m\u001b[39m.\u001b[39mscoring):\n",
      "File \u001b[0;32m~/.pyenv/versions/3.9.4/lib/python3.9/site-packages/sklearn/model_selection/_validation.py:367\u001b[0m, in \u001b[0;36m_warn_or_raise_about_fit_failures\u001b[0;34m(results, error_score)\u001b[0m\n\u001b[1;32m    360\u001b[0m \u001b[39mif\u001b[39;00m num_failed_fits \u001b[39m==\u001b[39m num_fits:\n\u001b[1;32m    361\u001b[0m     all_fits_failed_message \u001b[39m=\u001b[39m (\n\u001b[1;32m    362\u001b[0m         \u001b[39mf\u001b[39m\u001b[39m\"\u001b[39m\u001b[39m\\n\u001b[39;00m\u001b[39mAll the \u001b[39m\u001b[39m{\u001b[39;00mnum_fits\u001b[39m}\u001b[39;00m\u001b[39m fits failed.\u001b[39m\u001b[39m\\n\u001b[39;00m\u001b[39m\"\u001b[39m\n\u001b[1;32m    363\u001b[0m         \u001b[39m\"\u001b[39m\u001b[39mIt is very likely that your model is misconfigured.\u001b[39m\u001b[39m\\n\u001b[39;00m\u001b[39m\"\u001b[39m\n\u001b[1;32m    364\u001b[0m         \u001b[39m\"\u001b[39m\u001b[39mYou can try to debug the error by setting error_score=\u001b[39m\u001b[39m'\u001b[39m\u001b[39mraise\u001b[39m\u001b[39m'\u001b[39m\u001b[39m.\u001b[39m\u001b[39m\\n\u001b[39;00m\u001b[39m\\n\u001b[39;00m\u001b[39m\"\u001b[39m\n\u001b[1;32m    365\u001b[0m         \u001b[39mf\u001b[39m\u001b[39m\"\u001b[39m\u001b[39mBelow are more details about the failures:\u001b[39m\u001b[39m\\n\u001b[39;00m\u001b[39m{\u001b[39;00mfit_errors_summary\u001b[39m}\u001b[39;00m\u001b[39m\"\u001b[39m\n\u001b[1;32m    366\u001b[0m     )\n\u001b[0;32m--> 367\u001b[0m     \u001b[39mraise\u001b[39;00m \u001b[39mValueError\u001b[39;00m(all_fits_failed_message)\n\u001b[1;32m    369\u001b[0m \u001b[39melse\u001b[39;00m:\n\u001b[1;32m    370\u001b[0m     some_fits_failed_message \u001b[39m=\u001b[39m (\n\u001b[1;32m    371\u001b[0m         \u001b[39mf\u001b[39m\u001b[39m\"\u001b[39m\u001b[39m\\n\u001b[39;00m\u001b[39m{\u001b[39;00mnum_failed_fits\u001b[39m}\u001b[39;00m\u001b[39m fits failed out of a total of \u001b[39m\u001b[39m{\u001b[39;00mnum_fits\u001b[39m}\u001b[39;00m\u001b[39m.\u001b[39m\u001b[39m\\n\u001b[39;00m\u001b[39m\"\u001b[39m\n\u001b[1;32m    372\u001b[0m         \u001b[39m\"\u001b[39m\u001b[39mThe score on these train-test partitions for these parameters\u001b[39m\u001b[39m\"\u001b[39m\n\u001b[0;32m   (...)\u001b[0m\n\u001b[1;32m    376\u001b[0m         \u001b[39mf\u001b[39m\u001b[39m\"\u001b[39m\u001b[39mBelow are more details about the failures:\u001b[39m\u001b[39m\\n\u001b[39;00m\u001b[39m{\u001b[39;00mfit_errors_summary\u001b[39m}\u001b[39;00m\u001b[39m\"\u001b[39m\n\u001b[1;32m    377\u001b[0m     )\n",
      "\u001b[0;31mValueError\u001b[0m: \nAll the 500 fits failed.\nIt is very likely that your model is misconfigured.\nYou can try to debug the error by setting error_score='raise'.\n\nBelow are more details about the failures:\n--------------------------------------------------------------------------------\n100 fits failed with the following error:\nTraceback (most recent call last):\n  File \"/home/jayyxamian/.pyenv/versions/3.9.4/lib/python3.9/site-packages/sklearn/model_selection/_validation.py\", line 686, in _fit_and_score\n    estimator.fit(X_train, y_train, **fit_params)\n  File \"/home/jayyxamian/.pyenv/versions/3.9.4/lib/python3.9/site-packages/sklearn/ensemble/_forest.py\", line 331, in fit\n    X, y = self._validate_data(\n  File \"/home/jayyxamian/.pyenv/versions/3.9.4/lib/python3.9/site-packages/sklearn/base.py\", line 596, in _validate_data\n    X, y = check_X_y(X, y, **check_params)\n  File \"/home/jayyxamian/.pyenv/versions/3.9.4/lib/python3.9/site-packages/sklearn/utils/validation.py\", line 1074, in check_X_y\n    X = check_array(\n  File \"/home/jayyxamian/.pyenv/versions/3.9.4/lib/python3.9/site-packages/sklearn/utils/validation.py\", line 856, in check_array\n    array = np.asarray(array, order=order, dtype=dtype)\n  File \"/home/jayyxamian/.pyenv/versions/3.9.4/lib/python3.9/site-packages/pandas/core/generic.py\", line 2070, in __array__\n    return np.asarray(self._values, dtype=dtype)\nValueError: could not convert string to float: 'Friends of Chicago Animal Care & Control'\n\n--------------------------------------------------------------------------------\n400 fits failed with the following error:\nTraceback (most recent call last):\n  File \"/home/jayyxamian/.pyenv/versions/3.9.4/lib/python3.9/site-packages/sklearn/model_selection/_validation.py\", line 686, in _fit_and_score\n    estimator.fit(X_train, y_train, **fit_params)\n  File \"/home/jayyxamian/.pyenv/versions/3.9.4/lib/python3.9/site-packages/sklearn/ensemble/_forest.py\", line 331, in fit\n    X, y = self._validate_data(\n  File \"/home/jayyxamian/.pyenv/versions/3.9.4/lib/python3.9/site-packages/sklearn/base.py\", line 596, in _validate_data\n    X, y = check_X_y(X, y, **check_params)\n  File \"/home/jayyxamian/.pyenv/versions/3.9.4/lib/python3.9/site-packages/sklearn/utils/validation.py\", line 1074, in check_X_y\n    X = check_array(\n  File \"/home/jayyxamian/.pyenv/versions/3.9.4/lib/python3.9/site-packages/sklearn/utils/validation.py\", line 856, in check_array\n    array = np.asarray(array, order=order, dtype=dtype)\n  File \"/home/jayyxamian/.pyenv/versions/3.9.4/lib/python3.9/site-packages/pandas/core/generic.py\", line 2070, in __array__\n    return np.asarray(self._values, dtype=dtype)\nValueError: could not convert string to float: 'Chicago Animal Care and Control'\n"
     ]
    }
   ],
   "source": [
    "# train the regressor\n",
    "regr = RandomForestRegressor(max_depth=5, random_state=312, criterion=\"squared_error\")\n",
    "regr_random = RandomizedSearchCV(estimator=regr, param_distributions=random_grid, n_iter=100, cv=5, random_state=312, n_jobs=-1)\n",
    "\n",
    "regr_random.fit(X_train, y_train)"
   ]
  },
  {
   "cell_type": "code",
   "execution_count": null,
   "metadata": {},
   "outputs": [
    {
     "name": "stdout",
     "output_type": "stream",
     "text": [
      "0.02669350226920548\n",
      "{'n_estimators': 1800, 'min_samples_split': 8, 'min_samples_leaf': 8, 'max_features': 'sqrt', 'max_depth': 40, 'bootstrap': True}\n"
     ]
    }
   ],
   "source": [
    "# print out selected parameters\n",
    "best_params = regr_random.best_params_\n",
    "\n",
    "print(regr_random.best_score_)\n",
    "print(best_params)"
   ]
  },
  {
   "cell_type": "code",
   "execution_count": null,
   "metadata": {},
   "outputs": [
    {
     "data": {
      "text/plain": [
       "RandomForestRegressor(max_depth=40, max_features='sqrt', min_samples_leaf=8,\n",
       "                      min_samples_split=8, n_estimators=1800, n_jobs=-1,\n",
       "                      random_state=312)"
      ]
     },
     "execution_count": 23,
     "metadata": {},
     "output_type": "execute_result"
    }
   ],
   "source": [
    "# retrain using the best params\n",
    "regr = RandomForestRegressor(n_jobs=-1, random_state=312).set_params(**best_params)\n",
    "regr.fit(X_train, y_train)"
   ]
  },
  {
   "cell_type": "code",
   "execution_count": null,
   "metadata": {},
   "outputs": [],
   "source": [
    "# infer on test data\n",
    "yhat = regr.predict(X_test)"
   ]
  },
  {
   "cell_type": "code",
   "execution_count": null,
   "metadata": {},
   "outputs": [
    {
     "data": {
      "image/png": "[encoded data removed]",
      "text/plain": [
       "<Figure size 432x288 with 1 Axes>"
      ]
     },
     "metadata": {
      "needs_background": "light"
     },
     "output_type": "display_data"
    }
   ],
   "source": [
    "# plot inferences\n",
    "fig, ax = plt.subplots()\n",
    "ax.scatter(yhat, y_test, edgecolors=(0, 0, 1))\n",
    "ax.plot([y_test.min(), y_test.max()], [y_test.min(), y_test.max()], 'r--', lw=3)\n",
    "ax.set_xlabel('Predicted')\n",
    "ax.set_ylabel('Actual')\n",
    "plt.show()"
   ]
  },
  {
   "cell_type": "code",
   "execution_count": null,
   "metadata": {},
   "outputs": [],
   "source": [
    "feature_importances = pd.Series(regr.feature_importances_, index=regr.feature_names_in_)"
   ]
  },
  {
   "cell_type": "code",
   "execution_count": null,
   "metadata": {},
   "outputs": [
    {
     "data": {
      "text/plain": [
       "attribute_house_trained                      0.205295\n",
       "age                                          0.089631\n",
       "size                                         0.078159\n",
       "breed_primary_Labrador Retriever             0.050783\n",
       "attribute_special_needs                      0.047113\n",
       "breed_primary_Chihuahua                      0.043890\n",
       "good_with_dogs                               0.043376\n",
       "coat_Short                                   0.041392\n",
       "good_with_children                           0.039087\n",
       "color_primary_Yellow / Tan / Blond / Fawn    0.036967\n",
       "attribute_spayed_neutered                    0.030734\n",
       "color_primary_Brindle                        0.030056\n",
       "breed_mixed                                  0.027164\n",
       "color_primary_Black                          0.026288\n",
       "gender_Male                                  0.024991\n",
       "gender_Female                                0.024532\n",
       "breed_primary_Pit Bull Terrier               0.023754\n",
       "attribute_shots_current                      0.019364\n",
       "coat_Medium                                  0.018261\n",
       "color_secondary_White / Cream                0.017235\n",
       "dtype: float64"
      ]
     },
     "metadata": {},
     "output_type": "display_data"
    }
   ],
   "source": [
    "display(feature_importances.sort_values(ascending=False).head(20))"
   ]
  },
  {
   "cell_type": "code",
   "execution_count": null,
   "metadata": {},
   "outputs": [
    {
     "name": "stdout",
     "output_type": "stream",
     "text": [
      "{'mse': 6639.2495572150265, 'mae': 47.10495410280951, 'r2': 0.03138087064681572}\n",
      "{'mse': 6925.2875825080855, 'mae': 48.55794663048394, 'r2': -0.010350035931349755}\n"
     ]
    }
   ],
   "source": [
    "# evaluate performance\n",
    "mse = mean_squared_error(y_test, yhat)\n",
    "mae = mean_absolute_error(y_test, yhat)\n",
    "r2 = r2_score(y_test, yhat)\n",
    "\n",
    "metrics_rfr = {\n",
    "    \"mse\": mse,\n",
    "    \"mae\": mae,\n",
    "    \"r2\": r2,\n",
    "}\n",
    "# df_metrics = pd.DataFrame.from_dict(metrics, orient=\"index\", columns=[\"RandomForestRegressor\"])\n",
    "\n",
    "# evaluate a baseline of always guessing the mean\n",
    "yhat = np.ones((y_test.shape[0],1)) * y_train.mean()\n",
    "mse = mean_squared_error(y_test, yhat)\n",
    "mae = mean_absolute_error(y_test, yhat)\n",
    "r2 = r2_score(y_test, yhat)\n",
    "\n",
    "metrics_baseline = {\n",
    "    \"mse\": mse,\n",
    "    \"mae\": mae,\n",
    "    \"r2\": r2,\n",
    "}"
   ]
  },
  {
   "cell_type": "code",
   "execution_count": null,
   "metadata": {},
   "outputs": [],
   "source": [
    "df_metrics = pd.DataFrame.from_dict(data={\"Baseline\": metrics_baseline, \"RandomForestRegressor\": metrics_rfr})"
   ]
  },
  {
   "cell_type": "code",
   "execution_count": null,
   "metadata": {},
   "outputs": [
    {
     "data": {
      "text/html": [
       "<div>\n",
       "<style scoped>\n",
       "    .dataframe tbody tr th:only-of-type {\n",
       "        vertical-align: middle;\n",
       "    }\n",
       "\n",
       "    .dataframe tbody tr th {\n",
       "        vertical-align: top;\n",
       "    }\n",
       "\n",
       "    .dataframe thead th {\n",
       "        text-align: right;\n",
       "    }\n",
       "</style>\n",
       "<table border=\"1\" class=\"dataframe\">\n",
       "  <thead>\n",
       "    <tr style=\"text-align: right;\">\n",
       "      <th></th>\n",
       "      <th>Baseline</th>\n",
       "      <th>RandomForestRegressor</th>\n",
       "    </tr>\n",
       "  </thead>\n",
       "  <tbody>\n",
       "    <tr>\n",
       "      <th>mse</th>\n",
       "      <td>6925.287583</td>\n",
       "      <td>6639.249557</td>\n",
       "    </tr>\n",
       "    <tr>\n",
       "      <th>mae</th>\n",
       "      <td>48.557947</td>\n",
       "      <td>47.104954</td>\n",
       "    </tr>\n",
       "    <tr>\n",
       "      <th>r2</th>\n",
       "      <td>-0.010350</td>\n",
       "      <td>0.031381</td>\n",
       "    </tr>\n",
       "  </tbody>\n",
       "</table>\n",
       "</div>"
      ],
      "text/plain": [
       "        Baseline  RandomForestRegressor\n",
       "mse  6925.287583            6639.249557\n",
       "mae    48.557947              47.104954\n",
       "r2     -0.010350               0.031381"
      ]
     },
     "metadata": {},
     "output_type": "display_data"
    }
   ],
   "source": [
    "display(df_metrics)"
   ]
  },
  {
   "cell_type": "code",
   "execution_count": null,
   "metadata": {},
   "outputs": [],
   "source": []
  }
 ],
 "metadata": {
  "kernelspec": {
   "display_name": "Python 3.9.7 64-bit ('canary')",
   "language": "python",
   "name": "python3"
  },
  "language_info": {
   "codemirror_mode": {
    "name": "ipython",
    "version": 3
   },
   "file_extension": ".py",
   "mimetype": "text/x-python",
   "name": "python",
   "nbconvert_exporter": "python",
   "pygments_lexer": "ipython3",
   "version": "3.9.7"
  },
  "orig_nbformat": 4,
  "vscode": {
   "interpreter": {
    "hash": "a4b8b30545f5d65175c89d8b33afca65e1f9aa03e972311ddac705e77798068f"
   }
  }
 },
 "nbformat": 4,
 "nbformat_minor": 2
}
