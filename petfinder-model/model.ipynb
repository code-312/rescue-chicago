{
 "cells": [
  {
   "cell_type": "code",
   "execution_count": 1,
   "metadata": {},
   "outputs": [],
   "source": [
    "from sklearn.model_selection import train_test_split\n",
    "from sklearn.ensemble import RandomForestRegressor\n",
    "from sklearn.metrics import (mean_squared_error, mean_absolute_error, r2_score)\n",
    "from sklearn.model_selection import RandomizedSearchCV\n",
    "\n",
    "import matplotlib.pyplot as plt\n",
    "import pandas as pd\n",
    "import numpy as np"
   ]
  },
  {
   "cell_type": "code",
   "execution_count": 2,
   "metadata": {},
   "outputs": [],
   "source": [
    "df_raw = pd.read_pickle(\"data/preprocessed_data.pkl\")"
   ]
  },
  {
   "cell_type": "code",
   "execution_count": 3,
   "metadata": {},
   "outputs": [
    {
     "data": {
      "text/plain": [
       "Index(['age', 'size', 'organization_name', 'published_at', 'status_changed_at',\n",
       "       'los', 'breed_secondary', 'breed_mixed', 'good_with_children',\n",
       "       'good_with_dogs',\n",
       "       ...\n",
       "       'color_secondary_Merle (Red)',\n",
       "       'color_secondary_Red / Chestnut / Orange', 'color_secondary_Sable',\n",
       "       'color_secondary_Tricolor (Brown, Black, & White)',\n",
       "       'color_secondary_White / Cream',\n",
       "       'color_secondary_Yellow / Tan / Blond / Fawn',\n",
       "       'color_tertiary_Brown / Chocolate',\n",
       "       'color_tertiary_Red / Chestnut / Orange',\n",
       "       'color_tertiary_White / Cream',\n",
       "       'color_tertiary_Yellow / Tan / Blond / Fawn'],\n",
       "      dtype='object', length=129)"
      ]
     },
     "execution_count": 3,
     "metadata": {},
     "output_type": "execute_result"
    }
   ],
   "source": [
    "# df_raw.columns"
   ]
  },
  {
   "cell_type": "code",
   "execution_count": 5,
   "metadata": {},
   "outputs": [],
   "source": [
    "y = df_raw[\"los\"]\n",
    "\n",
    "features = []\n",
    "for col in df_raw.columns:\n",
    "    if col != \"los\":  # Skip the 'Target' column if it exists\n",
    "        features.append(col)\n",
    "\n",
    "X = df_raw[features]\n"
   ]
  },
  {
   "cell_type": "code",
   "execution_count": 13,
   "metadata": {},
   "outputs": [
    {
     "data": {
      "text/plain": [
       "array(['Poodle', None, 'American Staffordshire Terrier',\n",
       "       'Yorkshire Terrier', 'Golden Retriever', 'Pug', 'American Bulldog',\n",
       "       'Terrier', 'Havanese', 'Pit Bull Terrier', 'Labrador Retriever',\n",
       "       'Jack Russell Terrier', 'Shepherd', 'Miniature Pinscher',\n",
       "       'Pomeranian', 'Chihuahua', 'Spitz', 'Greyhound', 'Shih Tzu',\n",
       "       'Boxer', 'Doberman Pinscher', 'Flat-Coated Retriever',\n",
       "       'Cattle Dog', 'Lhasa Apso', 'Siberian Husky', 'Rat Terrier',\n",
       "       'Akita', 'Dachshund', 'Great Dane', 'Boston Terrier', 'Beagle',\n",
       "       'Chow Chow', 'Hound', 'English Bulldog', 'Bichon Frise',\n",
       "       'Australian Shepherd', 'American Eskimo Dog', 'Brussels Griffon',\n",
       "       'Retriever', 'Maltese', 'Husky', 'Alaskan Malamute', 'Spaniel',\n",
       "       'Collie', 'Border Collie', 'Australian Cattle Dog / Blue Heeler',\n",
       "       'Old English Sheepdog', 'German Shepherd Dog',\n",
       "       'Belgian Shepherd / Malinois', 'Basset Hound',\n",
       "       'Staffordshire Bull Terrier', 'Pointer', 'Dalmatian', 'Papillon',\n",
       "       'Wheaten Terrier', 'Anatolian Shepherd', 'Catahoula Leopard Dog',\n",
       "       'Petit Basset Griffon Vendeen', 'Silky Terrier', 'Weimaraner',\n",
       "       'Yellow Labrador Retriever', 'Rottweiler'], dtype=object)"
      ]
     },
     "execution_count": 13,
     "metadata": {},
     "output_type": "execute_result"
    }
   ],
   "source": [
    "pd.set_option('display.max_rows', None)\n",
    "pd.set_option('display.max_columns', None)\n",
    "X['breed_secondary'].unique()"
   ]
  },
  {
   "cell_type": "code",
   "execution_count": 8,
   "metadata": {},
   "outputs": [],
   "source": [
    "# split data into training and testing data\n",
    "X_train, X_test, y_train, y_test = train_test_split(X, y, test_size=0.33, random_state=312)"
   ]
  },
  {
   "cell_type": "code",
   "execution_count": null,
   "metadata": {},
   "outputs": [],
   "source": [
    "# set up hyperparameter search space for the random forest regressor\n",
    "random_grid = {\n",
    "    \"bootstrap\": [True, False],\n",
    "    \"max_depth\": [int(x) for x in np.linspace(10, 110, num=11)],\n",
    "    \"max_features\": [\"auto\", \"sqrt\", \"log2\"],\n",
    "    # \"max_leaf_nodes\": None,\n",
    "    # \"max_samples\": None,\n",
    "    # \"min_impurity_decrease\": 0.0,\n",
    "    \"min_samples_leaf\": [1, 2, 4, 8],\n",
    "    \"min_samples_split\": [2, 4, 8, 16],\n",
    "    # \"min_weight_fraction_leaf\": 0.0,\n",
    "    \"n_estimators\": [int(x) for x in np.linspace(start=200, stop=2000, num=10)],\n",
    "}"
   ]
  },
  {
   "cell_type": "code",
   "execution_count": null,
   "metadata": {},
   "outputs": [],
   "source": [
    "# train the regressor\n",
    "regr = RandomForestRegressor(max_depth=5, random_state=312, criterion=\"squared_error\")\n",
    "regr_random = RandomizedSearchCV(estimator=regr, param_distributions=random_grid, n_iter=100, cv=5, random_state=312, n_jobs=-1)\n",
    "\n",
    "regr_random.fit(X_train, y_train)"
   ]
  },
  {
   "cell_type": "code",
   "execution_count": null,
   "metadata": {},
   "outputs": [],
   "source": [
    "# print out selected parameters\n",
    "best_params = regr_random.best_params_\n",
    "\n",
    "print(regr_random.best_score_)\n",
    "print(best_params)"
   ]
  },
  {
   "cell_type": "code",
   "execution_count": null,
   "metadata": {},
   "outputs": [],
   "source": [
    "# retrain using the best params\n",
    "regr = RandomForestRegressor(n_jobs=-1, random_state=312).set_params(**best_params)\n",
    "regr.fit(X_train, y_train)"
   ]
  },
  {
   "cell_type": "code",
   "execution_count": null,
   "metadata": {},
   "outputs": [],
   "source": [
    "# infer on test data\n",
    "yhat = regr.predict(X_test)"
   ]
  },
  {
   "cell_type": "code",
   "execution_count": null,
   "metadata": {},
   "outputs": [],
   "source": [
    "# plot inferences\n",
    "fig, ax = plt.subplots()\n",
    "ax.scatter(yhat, y_test, edgecolors=(0, 0, 1))\n",
    "ax.plot([y_test.min(), y_test.max()], [y_test.min(), y_test.max()], 'r--', lw=3)\n",
    "ax.set_xlabel('Predicted')\n",
    "ax.set_ylabel('Actual')\n",
    "plt.show()"
   ]
  },
  {
   "cell_type": "code",
   "execution_count": null,
   "metadata": {},
   "outputs": [],
   "source": [
    "feature_importances = pd.Series(regr.feature_importances_, index=regr.feature_names_in_)"
   ]
  },
  {
   "cell_type": "code",
   "execution_count": null,
   "metadata": {},
   "outputs": [],
   "source": [
    "display(feature_importances.sort_values(ascending=False).head(20))"
   ]
  },
  {
   "cell_type": "code",
   "execution_count": null,
   "metadata": {},
   "outputs": [],
   "source": [
    "# evaluate performance\n",
    "mse = mean_squared_error(y_test, yhat)\n",
    "mae = mean_absolute_error(y_test, yhat)\n",
    "r2 = r2_score(y_test, yhat)\n",
    "\n",
    "metrics_rfr = {\n",
    "    \"mse\": mse,\n",
    "    \"mae\": mae,\n",
    "    \"r2\": r2,\n",
    "}\n",
    "# df_metrics = pd.DataFrame.from_dict(metrics, orient=\"index\", columns=[\"RandomForestRegressor\"])\n",
    "\n",
    "# evaluate a baseline of always guessing the mean\n",
    "yhat = np.ones((y_test.shape[0],1)) * y_train.mean()\n",
    "mse = mean_squared_error(y_test, yhat)\n",
    "mae = mean_absolute_error(y_test, yhat)\n",
    "r2 = r2_score(y_test, yhat)\n",
    "\n",
    "metrics_baseline = {\n",
    "    \"mse\": mse,\n",
    "    \"mae\": mae,\n",
    "    \"r2\": r2,\n",
    "}"
   ]
  },
  {
   "cell_type": "code",
   "execution_count": null,
   "metadata": {},
   "outputs": [],
   "source": [
    "df_metrics = pd.DataFrame.from_dict(data={\"Baseline\": metrics_baseline, \"RandomForestRegressor\": metrics_rfr})"
   ]
  },
  {
   "cell_type": "code",
   "execution_count": null,
   "metadata": {},
   "outputs": [],
   "source": [
    "display(df_metrics)"
   ]
  },
  {
   "cell_type": "code",
   "execution_count": null,
   "metadata": {},
   "outputs": [],
   "source": []
  }
 ],
 "metadata": {
  "kernelspec": {
   "display_name": "Python 3 (ipykernel)",
   "language": "python",
   "name": "python3"
  },
  "language_info": {
   "codemirror_mode": {
    "name": "ipython",
    "version": 3
   },
   "file_extension": ".py",
   "mimetype": "text/x-python",
   "name": "python",
   "nbconvert_exporter": "python",
   "pygments_lexer": "ipython3",
   "version": "3.9.12"
  },
  "vscode": {
   "interpreter": {
    "hash": "a4b8b30545f5d65175c89d8b33afca65e1f9aa03e972311ddac705e77798068f"
   }
  }
 },
 "nbformat": 4,
 "nbformat_minor": 2
}
