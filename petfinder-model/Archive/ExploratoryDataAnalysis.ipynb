{
 "cells": [
  {
   "cell_type": "code",
   "execution_count": null,
   "metadata": {},
   "outputs": [],
   "source": [
    "import os\n",
    "import pandas as pd\n",
    "import numpy as np\n",
    "import matplotlib.pyplot as plt\n",
    "import seaborn as sns\n",
    "%matplotlib inline "
   ]
  },
  {
   "cell_type": "code",
   "execution_count": null,
   "metadata": {},
   "outputs": [],
   "source": [
    "# Old Static File\n",
    "# df = pd.read_pickle(\"/Users/jenniferdimaano/Desktop/GitHub/rescue-chicago/petfinder-data/data/chicago_il_animals_cleaned.pkl\")\n",
    "\n",
    "# New Heroku DB Connection\n",
    "# https://pandas.pydata.org/docs/reference/api/pandas.read_sql.html\n",
    "# EXAMPLE: df = pd.read_sql('test_data', 'postgres:///db_name') \n",
    "HEROKU_URL = os.getenv('HEROKU_POSTGRESQL_AMBER_URL')\n",
    "\n",
    "uri = HEROKU_URL \n",
    "if uri.startswith(\"postgres://\"):\n",
    "    uri = uri.replace(\"postgres://\", \"postgresql://\", 1)\n",
    "df = pd.read_sql('petfinder_with_dates', uri)  \n"
   ]
  },
  {
   "cell_type": "code",
   "execution_count": null,
   "metadata": {},
   "outputs": [],
   "source": [
    "# pd.set_option('display.max_rows', None)\n",
    "# pd.set_option('display.max_columns', None)"
   ]
  },
  {
   "cell_type": "code",
   "execution_count": null,
   "metadata": {},
   "outputs": [],
   "source": [
    "# head = df.head()"
   ]
  },
  {
   "cell_type": "code",
   "execution_count": null,
   "metadata": {},
   "outputs": [],
   "source": [
    "# cols = df.columns"
   ]
  },
  {
   "cell_type": "code",
   "execution_count": null,
   "metadata": {},
   "outputs": [],
   "source": [
    "df.info()"
   ]
  },
  {
   "cell_type": "code",
   "execution_count": null,
   "metadata": {},
   "outputs": [],
   "source": [
    "desc = df.describe(include='all')\n",
    "print(desc)"
   ]
  },
  {
   "cell_type": "code",
   "execution_count": null,
   "metadata": {},
   "outputs": [],
   "source": [
    "# # who is null?\n",
    "null = df.isnull().sum().sort_values(ascending = False)\n",
    "print(null)\n"
   ]
  },
  {
   "cell_type": "code",
   "execution_count": null,
   "metadata": {},
   "outputs": [],
   "source": [
    "# dropping features with too many nulls\n",
    "df = df.drop(columns=[\"id\", \"organization_id\", \"attribute_declawed\", \"attribute_declawed\", \"color_tertiary\", \n",
    "                      \"good_with_cats\",\n",
    "                      \"good_with_children\",\n",
    "                      \"good_with_dogs\",\n",
    "                      \"breed_secondary\",\n",
    "                      \"color_secondary\"])"
   ]
  },
  {
   "cell_type": "code",
   "execution_count": null,
   "metadata": {},
   "outputs": [],
   "source": [
    "# # What rows are missing coat number info?\n",
    "# no_coat = df.loc[df['coat'].isnull()]\n",
    "# # no_coat.head()"
   ]
  },
  {
   "cell_type": "code",
   "execution_count": null,
   "metadata": {},
   "outputs": [],
   "source": [
    "# # Let's see what the distribution of passenger class is like for these people!\n",
    "# nocoat_breed = no_coat['breed_primary'].value_counts()"
   ]
  },
  {
   "cell_type": "code",
   "execution_count": null,
   "metadata": {},
   "outputs": [],
   "source": [
    "# breedprimary = df['breed_primary'].value_counts()['Labrador Retriever']"
   ]
  },
  {
   "cell_type": "code",
   "execution_count": null,
   "metadata": {},
   "outputs": [],
   "source": [
    "# unique = df['coat'].unique()"
   ]
  },
  {
   "cell_type": "code",
   "execution_count": null,
   "metadata": {},
   "outputs": [],
   "source": [
    "def fill_nan_mode(df, reference_column, feature):\n",
    "    # Calculate the mode coat for each breed_primary\n",
    "    mode_by_breed = df.groupby(reference_column)[feature].apply(lambda x: x.mode().iloc[0] if not x.isnull().all() else None)\n",
    "\n",
    "    # Create a dictionary mapping each breed to its mode coat\n",
    "    mode_dict = dict(mode_by_breed)\n",
    "\n",
    "    # Fill the NaN values in 'coat' based on the breed using the mode_dict\n",
    "    df[feature] = df.apply(lambda row: mode_dict[row[reference_column]] if pd.isna(row[feature]) and row[reference_column] in mode_dict else row[feature], axis=1)\n",
    "\n",
    "    return df"
   ]
  },
  {
   "cell_type": "code",
   "execution_count": null,
   "metadata": {},
   "outputs": [],
   "source": [
    "\n",
    "fill_nan_mode(df, 'breed_primary', 'coat')\n",
    "fill_nan_mode(df, 'breed_primary', 'color_primary')"
   ]
  },
  {
   "cell_type": "code",
   "execution_count": null,
   "metadata": {},
   "outputs": [],
   "source": [
    "df['breed_mixed'].unique()"
   ]
  },
  {
   "cell_type": "code",
   "execution_count": null,
   "metadata": {},
   "outputs": [],
   "source": [
    "# df['coat'].isnull().sum()"
   ]
  },
  {
   "cell_type": "code",
   "execution_count": null,
   "metadata": {},
   "outputs": [],
   "source": [
    "# df['color_primary'].isnull().sum()"
   ]
  },
  {
   "cell_type": "code",
   "execution_count": null,
   "metadata": {},
   "outputs": [],
   "source": [
    "# df[df['color_primary'].isnull()]"
   ]
  },
  {
   "cell_type": "code",
   "execution_count": null,
   "metadata": {},
   "outputs": [],
   "source": [
    "# df[df['color_primary'].isnull()]['breed_primary'].unique()"
   ]
  },
  {
   "cell_type": "code",
   "execution_count": null,
   "metadata": {},
   "outputs": [],
   "source": [
    "# df['breed_primary'].value_counts()['Belgian Shepherd / Laekenois']"
   ]
  },
  {
   "cell_type": "code",
   "execution_count": null,
   "metadata": {},
   "outputs": [],
   "source": [
    "# df[df['coat'].isnull()]['breed_primary'].unique()"
   ]
  },
  {
   "cell_type": "code",
   "execution_count": null,
   "metadata": {},
   "outputs": [],
   "source": [
    "# df[df['coat'].isnull()]"
   ]
  },
  {
   "cell_type": "code",
   "execution_count": null,
   "metadata": {},
   "outputs": [],
   "source": [
    "# Dropping rows with null coat and color primary\n",
    "def drop_null_rows(df, feature):\n",
    "    df.dropna(subset=[feature], inplace=True)\n",
    "    return df"
   ]
  },
  {
   "cell_type": "code",
   "execution_count": null,
   "metadata": {},
   "outputs": [],
   "source": [
    "drop_null_rows(df, 'coat')\n",
    "drop_null_rows(df, 'color_primary')"
   ]
  },
  {
   "cell_type": "code",
   "execution_count": null,
   "metadata": {},
   "outputs": [],
   "source": [
    "num_cols = df.select_dtypes(include=[\"int64\", \"float64\"]).columns.tolist()\n",
    "\n",
    "\n",
    "# Create a scatter plot of numeric features against \"los\"\n",
    "for col in num_cols:\n",
    "    plt.scatter(df[col], df[\"los\"])\n",
    "    plt.xlabel(col)\n",
    "    plt.ylabel(\"los\")\n",
    "    plt.show()\n"
   ]
  },
  {
   "cell_type": "code",
   "execution_count": null,
   "metadata": {},
   "outputs": [],
   "source": [
    "# Bar plot of gender distribution\n",
    "plt.figure(figsize=(8, 6))\n",
    "sns.countplot(x='gender', data=df)\n",
    "plt.title('Gender Distribution')\n",
    "plt.xlabel('Gender')\n",
    "plt.ylabel('Count')\n",
    "plt.show()\n"
   ]
  },
  {
   "cell_type": "code",
   "execution_count": null,
   "metadata": {},
   "outputs": [],
   "source": [
    "#pd.set_option('display.max_rows', None)\n",
    "#df[df['gender'] == 'Unknown']\n",
    "df.drop(df[df['gender'] == 'Unknown'].index, inplace=True)\n"
   ]
  },
  {
   "cell_type": "code",
   "execution_count": null,
   "metadata": {},
   "outputs": [],
   "source": [
    "# Histogram of age distribution\n",
    "plt.figure(figsize=(8, 6))\n",
    "sns.histplot(df['age'])\n",
    "plt.title('Age Distribution')\n",
    "plt.xlabel('Age')\n",
    "plt.ylabel('Count')\n",
    "plt.show()"
   ]
  },
  {
   "cell_type": "code",
   "execution_count": null,
   "metadata": {},
   "outputs": [],
   "source": [
    "# Calculate the mean 'los' for each age category\n",
    "mean_los_by_age_category = df.groupby('age')['los'].mean().reset_index().sort_values(by='los', ascending=False)\n",
    "\n",
    "# Bar chart of mean 'los' by age category\n",
    "plt.figure(figsize=(8, 6))\n",
    "sns.barplot(data=mean_los_by_age_category, x='age', y='los')\n",
    "plt.title('Mean LOS by Age Category')\n",
    "plt.xlabel('Age Category')\n",
    "plt.ylabel('Mean LOS')\n",
    "plt.show()\n"
   ]
  },
  {
   "cell_type": "code",
   "execution_count": null,
   "metadata": {},
   "outputs": [],
   "source": [
    "# List of variable names to create box plots for\n",
    "variables = ['size', 'age', 'gender', 'attribute_spayed_neutered', 'attribute_house_trained']\n",
    "\n",
    "# Create box plots for each variable\n",
    "for variable in variables:\n",
    "    plt.figure(figsize=(10, 8))\n",
    "    \n",
    "    if variable == 'breed_mix':\n",
    "        # Handle 'breed_mix' separately\n",
    "        unique_categories = df['breed_mix'].unique()\n",
    "        for category in unique_categories:\n",
    "            subset = df[df['breed_mix'] == category]\n",
    "            sns.boxplot(x=variable, y='los', data=subset)\n",
    "        \n",
    "        plt.xlabel(variable.capitalize())\n",
    "    elif variable in ['attribute_spayed_neutered', 'attribute_house_trained']:\n",
    "        # Handle boolean features\n",
    "        sns.boxplot(x=variable, y='los', data=df, order=[True, False])\n",
    "        plt.xlabel(variable.capitalize())\n",
    "    else:\n",
    "        # Handle object features\n",
    "        sns.boxplot(x=variable, y='los', data=df)\n",
    "        plt.xlabel(variable.capitalize())\n",
    "    \n",
    "    plt.title(f'Length of Stay by {variable.capitalize()}')\n",
    "    plt.ylabel('Length of Stay')\n",
    "    plt.show()\n"
   ]
  },
  {
   "cell_type": "code",
   "execution_count": null,
   "metadata": {},
   "outputs": [],
   "source": [
    "pd.set_option('display.max_rows', None)\n",
    "df[df['los'] < 0]\n",
    "df.drop(df[df['los'] < 0].index, inplace=True)\n",
    "\n",
    "df.head()"
   ]
  },
  {
   "cell_type": "code",
   "execution_count": null,
   "metadata": {},
   "outputs": [],
   "source": [
    "(df['los']<=0).sum()"
   ]
  },
  {
   "cell_type": "code",
   "execution_count": null,
   "metadata": {},
   "outputs": [],
   "source": [
    "from scipy import stats\n",
    "\n",
    "# Perform Box-Cox transformation\n",
    "transformed_los, lambda_value = stats.boxcox(df['los'])\n",
    "\n",
    "# Perform Box-Cox transformation\n",
    "transformed_los, lambda_value = stats.boxcox(df['los'])\n",
    "\n",
    "# Print the lambda value (to be used for inverse transformation if needed)\n",
    "print(\"Lambda value:\", lambda_value)\n",
    "\n",
    "# Print the transformed 'los' values\n",
    "print(\"Transformed 'los':\", transformed_los)"
   ]
  },
  {
   "cell_type": "code",
   "execution_count": null,
   "metadata": {},
   "outputs": [],
   "source": [
    "# # Heatmap of missing values\n",
    "# plt.figure(figsize=(10, 8))\n",
    "# sns.heatmap(df.isnull(), cmap='viridis', cbar=False)\n",
    "# plt.title('Missing Values')\n",
    "# plt.show()"
   ]
  }
 ],
 "metadata": {
  "kernelspec": {
   "display_name": "myenv_petfinder",
   "language": "python",
   "name": "python3"
  },
  "language_info": {
   "codemirror_mode": {
    "name": "ipython",
    "version": 3
   },
   "file_extension": ".py",
   "mimetype": "text/x-python",
   "name": "python",
   "nbconvert_exporter": "python",
   "pygments_lexer": "ipython3",
   "version": "3.9.16"
  },
  "orig_nbformat": 4
 },
 "nbformat": 4,
 "nbformat_minor": 2
}
