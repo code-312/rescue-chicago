{
 "cells": [
  {
   "cell_type": "markdown",
   "metadata": {},
   "source": [
    "# Petfinder EDA\n",
    "\n",
    "Basic EDA on adopted dogs data returned from the Petfinder API. This notebook includes analysis and exploration of raw data returned from the Petfinder API (before any other cleaning has been applied to it).\n",
    "\n",
    "To get the data evaluated in this notebook, you can either run the script in this Repository called `data_getter.py`, or you can download the data file produced by running this script from our [Code for Chicago Google Drive](https://drive.google.com/drive/u/0/folders/16YyhvVVQVecoBtmWOVZOR0rynGKkmYj_), and saving it to the location `rescuechi/petfinder/data/chicago_animals.pkl`."
   ]
  },
  {
   "cell_type": "code",
   "execution_count": 1,
   "metadata": {},
   "outputs": [],
   "source": [
    "import pandas as pd\n",
    "import matplotlib.pyplot as plt\n",
    "import seaborn as sns"
   ]
  },
  {
   "cell_type": "code",
   "execution_count": 2,
   "metadata": {},
   "outputs": [],
   "source": [
    "plt.rcParams[\"figure.figsize\"] = (20, 10)"
   ]
  },
  {
   "cell_type": "code",
   "execution_count": 3,
   "metadata": {},
   "outputs": [],
   "source": [
    "# this file results from running `get_animals` in petfinder/data_getter.py\n",
    "df = pd.read_pickle(\"data/chicago_il_animals_cleaned.pkl\")"
   ]
  },
  {
   "cell_type": "code",
   "execution_count": 5,
   "metadata": {},
   "outputs": [],
   "source": [
    "pd.set_option('display.max_rows', None)\n",
    "pd.set_option('display.max_columns', None)"
   ]
  },
  {
   "cell_type": "code",
   "execution_count": 6,
   "metadata": {},
   "outputs": [
    {
     "data": {
      "text/html": [
       "<div>\n",
       "<style scoped>\n",
       "    .dataframe tbody tr th:only-of-type {\n",
       "        vertical-align: middle;\n",
       "    }\n",
       "\n",
       "    .dataframe tbody tr th {\n",
       "        vertical-align: top;\n",
       "    }\n",
       "\n",
       "    .dataframe thead th {\n",
       "        text-align: right;\n",
       "    }\n",
       "</style>\n",
       "<table border=\"1\" class=\"dataframe\">\n",
       "  <thead>\n",
       "    <tr style=\"text-align: right;\">\n",
       "      <th></th>\n",
       "      <th>id</th>\n",
       "      <th>age</th>\n",
       "      <th>gender</th>\n",
       "      <th>size</th>\n",
       "      <th>coat</th>\n",
       "      <th>name</th>\n",
       "      <th>organization_id</th>\n",
       "      <th>organization_name</th>\n",
       "      <th>published_at</th>\n",
       "      <th>status_changed_at</th>\n",
       "      <th>los</th>\n",
       "      <th>breed_primary</th>\n",
       "      <th>breed_secondary</th>\n",
       "      <th>breed_mixed</th>\n",
       "      <th>breed_unknown</th>\n",
       "      <th>color_primary</th>\n",
       "      <th>color_secondary</th>\n",
       "      <th>color_tertiary</th>\n",
       "      <th>good_with_children</th>\n",
       "      <th>good_with_dogs</th>\n",
       "      <th>good_with_cats</th>\n",
       "      <th>attribute_spayed_neutered</th>\n",
       "      <th>attribute_house_trained</th>\n",
       "      <th>attribute_declawed</th>\n",
       "      <th>attribute_special_needs</th>\n",
       "      <th>attribute_shots_current</th>\n",
       "      <th>city</th>\n",
       "      <th>state</th>\n",
       "    </tr>\n",
       "  </thead>\n",
       "  <tbody>\n",
       "    <tr>\n",
       "      <th>0</th>\n",
       "      <td>37845448</td>\n",
       "      <td>Young</td>\n",
       "      <td>Female</td>\n",
       "      <td>Small</td>\n",
       "      <td>Medium</td>\n",
       "      <td>Mika</td>\n",
       "      <td>IL608</td>\n",
       "      <td>Friends of Chicago Animal Care &amp; Control</td>\n",
       "      <td>2017-04-13 22:22:16+00:00</td>\n",
       "      <td>2017-05-11 17:41:38+00:00</td>\n",
       "      <td>27</td>\n",
       "      <td>Schnauzer</td>\n",
       "      <td>Poodle</td>\n",
       "      <td>True</td>\n",
       "      <td>False</td>\n",
       "      <td>Gray / Blue / Silver</td>\n",
       "      <td>None</td>\n",
       "      <td>None</td>\n",
       "      <td>False</td>\n",
       "      <td>None</td>\n",
       "      <td>None</td>\n",
       "      <td>True</td>\n",
       "      <td>True</td>\n",
       "      <td>None</td>\n",
       "      <td>False</td>\n",
       "      <td>True</td>\n",
       "      <td>Chicago</td>\n",
       "      <td>IL</td>\n",
       "    </tr>\n",
       "    <tr>\n",
       "      <th>1</th>\n",
       "      <td>37868394</td>\n",
       "      <td>Young</td>\n",
       "      <td>Female</td>\n",
       "      <td>Small</td>\n",
       "      <td>Long</td>\n",
       "      <td>Luna (LuLu)</td>\n",
       "      <td>IL608</td>\n",
       "      <td>Friends of Chicago Animal Care &amp; Control</td>\n",
       "      <td>2017-04-17 21:12:27+00:00</td>\n",
       "      <td>2017-04-25 02:33:04+00:00</td>\n",
       "      <td>7</td>\n",
       "      <td>Shih Tzu</td>\n",
       "      <td>None</td>\n",
       "      <td>False</td>\n",
       "      <td>False</td>\n",
       "      <td>White / Cream</td>\n",
       "      <td>Black</td>\n",
       "      <td>None</td>\n",
       "      <td>None</td>\n",
       "      <td>None</td>\n",
       "      <td>None</td>\n",
       "      <td>True</td>\n",
       "      <td>False</td>\n",
       "      <td>None</td>\n",
       "      <td>False</td>\n",
       "      <td>True</td>\n",
       "      <td>Chicago</td>\n",
       "      <td>IL</td>\n",
       "    </tr>\n",
       "    <tr>\n",
       "      <th>2</th>\n",
       "      <td>37868562</td>\n",
       "      <td>Adult</td>\n",
       "      <td>Male</td>\n",
       "      <td>Small</td>\n",
       "      <td>Medium</td>\n",
       "      <td>Jack</td>\n",
       "      <td>IL608</td>\n",
       "      <td>Friends of Chicago Animal Care &amp; Control</td>\n",
       "      <td>2017-04-17 21:44:31+00:00</td>\n",
       "      <td>2017-04-25 02:31:52+00:00</td>\n",
       "      <td>7</td>\n",
       "      <td>Maltese</td>\n",
       "      <td>Poodle</td>\n",
       "      <td>True</td>\n",
       "      <td>False</td>\n",
       "      <td>White / Cream</td>\n",
       "      <td>None</td>\n",
       "      <td>None</td>\n",
       "      <td>None</td>\n",
       "      <td>None</td>\n",
       "      <td>None</td>\n",
       "      <td>True</td>\n",
       "      <td>True</td>\n",
       "      <td>None</td>\n",
       "      <td>False</td>\n",
       "      <td>True</td>\n",
       "      <td>Chicago</td>\n",
       "      <td>IL</td>\n",
       "    </tr>\n",
       "    <tr>\n",
       "      <th>3</th>\n",
       "      <td>38338429</td>\n",
       "      <td>Adult</td>\n",
       "      <td>Male</td>\n",
       "      <td>Small</td>\n",
       "      <td>Short</td>\n",
       "      <td>PinPon</td>\n",
       "      <td>IL608</td>\n",
       "      <td>Friends of Chicago Animal Care &amp; Control</td>\n",
       "      <td>2017-06-07 22:25:36+00:00</td>\n",
       "      <td>2017-08-03 17:02:39+00:00</td>\n",
       "      <td>56</td>\n",
       "      <td>Pug</td>\n",
       "      <td>None</td>\n",
       "      <td>False</td>\n",
       "      <td>False</td>\n",
       "      <td>Yellow / Tan / Blond / Fawn</td>\n",
       "      <td>None</td>\n",
       "      <td>None</td>\n",
       "      <td>False</td>\n",
       "      <td>None</td>\n",
       "      <td>None</td>\n",
       "      <td>True</td>\n",
       "      <td>True</td>\n",
       "      <td>None</td>\n",
       "      <td>False</td>\n",
       "      <td>True</td>\n",
       "      <td>Chicago</td>\n",
       "      <td>IL</td>\n",
       "    </tr>\n",
       "    <tr>\n",
       "      <th>4</th>\n",
       "      <td>40204215</td>\n",
       "      <td>Adult</td>\n",
       "      <td>Male</td>\n",
       "      <td>Large</td>\n",
       "      <td>Short</td>\n",
       "      <td>Uncle Jesse</td>\n",
       "      <td>IL608</td>\n",
       "      <td>Friends of Chicago Animal Care &amp; Control</td>\n",
       "      <td>2017-12-14 19:41:06+00:00</td>\n",
       "      <td>2018-02-06 19:38:45+00:00</td>\n",
       "      <td>53</td>\n",
       "      <td>Pit Bull Terrier</td>\n",
       "      <td>None</td>\n",
       "      <td>False</td>\n",
       "      <td>False</td>\n",
       "      <td>Gray / Blue / Silver</td>\n",
       "      <td>None</td>\n",
       "      <td>None</td>\n",
       "      <td>None</td>\n",
       "      <td>None</td>\n",
       "      <td>None</td>\n",
       "      <td>True</td>\n",
       "      <td>True</td>\n",
       "      <td>None</td>\n",
       "      <td>False</td>\n",
       "      <td>True</td>\n",
       "      <td>Chicago</td>\n",
       "      <td>IL</td>\n",
       "    </tr>\n",
       "  </tbody>\n",
       "</table>\n",
       "</div>"
      ],
      "text/plain": [
       "         id    age  gender   size    coat         name organization_id  \\\n",
       "0  37845448  Young  Female  Small  Medium         Mika           IL608   \n",
       "1  37868394  Young  Female  Small    Long  Luna (LuLu)           IL608   \n",
       "2  37868562  Adult    Male  Small  Medium         Jack           IL608   \n",
       "3  38338429  Adult    Male  Small   Short       PinPon           IL608   \n",
       "4  40204215  Adult    Male  Large   Short  Uncle Jesse           IL608   \n",
       "\n",
       "                          organization_name              published_at  \\\n",
       "0  Friends of Chicago Animal Care & Control 2017-04-13 22:22:16+00:00   \n",
       "1  Friends of Chicago Animal Care & Control 2017-04-17 21:12:27+00:00   \n",
       "2  Friends of Chicago Animal Care & Control 2017-04-17 21:44:31+00:00   \n",
       "3  Friends of Chicago Animal Care & Control 2017-06-07 22:25:36+00:00   \n",
       "4  Friends of Chicago Animal Care & Control 2017-12-14 19:41:06+00:00   \n",
       "\n",
       "          status_changed_at  los     breed_primary breed_secondary  \\\n",
       "0 2017-05-11 17:41:38+00:00   27         Schnauzer          Poodle   \n",
       "1 2017-04-25 02:33:04+00:00    7          Shih Tzu            None   \n",
       "2 2017-04-25 02:31:52+00:00    7           Maltese          Poodle   \n",
       "3 2017-08-03 17:02:39+00:00   56               Pug            None   \n",
       "4 2018-02-06 19:38:45+00:00   53  Pit Bull Terrier            None   \n",
       "\n",
       "   breed_mixed  breed_unknown                color_primary color_secondary  \\\n",
       "0         True          False         Gray / Blue / Silver            None   \n",
       "1        False          False                White / Cream           Black   \n",
       "2         True          False                White / Cream            None   \n",
       "3        False          False  Yellow / Tan / Blond / Fawn            None   \n",
       "4        False          False         Gray / Blue / Silver            None   \n",
       "\n",
       "  color_tertiary good_with_children good_with_dogs good_with_cats  \\\n",
       "0           None              False           None           None   \n",
       "1           None               None           None           None   \n",
       "2           None               None           None           None   \n",
       "3           None              False           None           None   \n",
       "4           None               None           None           None   \n",
       "\n",
       "   attribute_spayed_neutered  attribute_house_trained attribute_declawed  \\\n",
       "0                       True                     True               None   \n",
       "1                       True                    False               None   \n",
       "2                       True                     True               None   \n",
       "3                       True                     True               None   \n",
       "4                       True                     True               None   \n",
       "\n",
       "   attribute_special_needs  attribute_shots_current     city state  \n",
       "0                    False                     True  Chicago    IL  \n",
       "1                    False                     True  Chicago    IL  \n",
       "2                    False                     True  Chicago    IL  \n",
       "3                    False                     True  Chicago    IL  \n",
       "4                    False                     True  Chicago    IL  "
      ]
     },
     "execution_count": 6,
     "metadata": {},
     "output_type": "execute_result"
    }
   ],
   "source": [
    "df.head()"
   ]
  },
  {
   "cell_type": "code",
   "execution_count": null,
   "metadata": {},
   "outputs": [],
   "source": [
    "df.columns"
   ]
  },
  {
   "cell_type": "code",
   "execution_count": 7,
   "metadata": {},
   "outputs": [
    {
     "data": {
      "text/plain": [
       "id                                         int64\n",
       "age                                       object\n",
       "gender                                    object\n",
       "size                                      object\n",
       "coat                                      object\n",
       "name                                      object\n",
       "organization_id                           object\n",
       "organization_name                         object\n",
       "published_at                 datetime64[ns, UTC]\n",
       "status_changed_at            datetime64[ns, UTC]\n",
       "los                                        int64\n",
       "breed_primary                             object\n",
       "breed_secondary                           object\n",
       "breed_mixed                                 bool\n",
       "breed_unknown                               bool\n",
       "color_primary                             object\n",
       "color_secondary                           object\n",
       "color_tertiary                            object\n",
       "good_with_children                        object\n",
       "good_with_dogs                            object\n",
       "good_with_cats                            object\n",
       "attribute_spayed_neutered                   bool\n",
       "attribute_house_trained                     bool\n",
       "attribute_declawed                        object\n",
       "attribute_special_needs                     bool\n",
       "attribute_shots_current                     bool\n",
       "city                                      object\n",
       "state                                     object\n",
       "dtype: object"
      ]
     },
     "execution_count": 7,
     "metadata": {},
     "output_type": "execute_result"
    }
   ],
   "source": [
    "df.dtypes"
   ]
  },
  {
   "cell_type": "code",
   "execution_count": 8,
   "metadata": {},
   "outputs": [
    {
     "data": {
      "text/html": [
       "<div>\n",
       "<style scoped>\n",
       "    .dataframe tbody tr th:only-of-type {\n",
       "        vertical-align: middle;\n",
       "    }\n",
       "\n",
       "    .dataframe tbody tr th {\n",
       "        vertical-align: top;\n",
       "    }\n",
       "\n",
       "    .dataframe thead th {\n",
       "        text-align: right;\n",
       "    }\n",
       "</style>\n",
       "<table border=\"1\" class=\"dataframe\">\n",
       "  <thead>\n",
       "    <tr style=\"text-align: right;\">\n",
       "      <th></th>\n",
       "      <th>id</th>\n",
       "      <th>los</th>\n",
       "    </tr>\n",
       "  </thead>\n",
       "  <tbody>\n",
       "    <tr>\n",
       "      <th>count</th>\n",
       "      <td>2.500000e+03</td>\n",
       "      <td>2500.000000</td>\n",
       "    </tr>\n",
       "    <tr>\n",
       "      <th>mean</th>\n",
       "      <td>3.320809e+07</td>\n",
       "      <td>38.628400</td>\n",
       "    </tr>\n",
       "    <tr>\n",
       "      <th>std</th>\n",
       "      <td>1.070815e+07</td>\n",
       "      <td>94.438057</td>\n",
       "    </tr>\n",
       "    <tr>\n",
       "      <th>min</th>\n",
       "      <td>1.640318e+07</td>\n",
       "      <td>0.000000</td>\n",
       "    </tr>\n",
       "    <tr>\n",
       "      <th>25%</th>\n",
       "      <td>2.183373e+07</td>\n",
       "      <td>10.000000</td>\n",
       "    </tr>\n",
       "    <tr>\n",
       "      <th>50%</th>\n",
       "      <td>3.298548e+07</td>\n",
       "      <td>20.000000</td>\n",
       "    </tr>\n",
       "    <tr>\n",
       "      <th>75%</th>\n",
       "      <td>4.496674e+07</td>\n",
       "      <td>40.000000</td>\n",
       "    </tr>\n",
       "    <tr>\n",
       "      <th>max</th>\n",
       "      <td>5.892066e+07</td>\n",
       "      <td>2932.000000</td>\n",
       "    </tr>\n",
       "  </tbody>\n",
       "</table>\n",
       "</div>"
      ],
      "text/plain": [
       "                 id          los\n",
       "count  2.500000e+03  2500.000000\n",
       "mean   3.320809e+07    38.628400\n",
       "std    1.070815e+07    94.438057\n",
       "min    1.640318e+07     0.000000\n",
       "25%    2.183373e+07    10.000000\n",
       "50%    3.298548e+07    20.000000\n",
       "75%    4.496674e+07    40.000000\n",
       "max    5.892066e+07  2932.000000"
      ]
     },
     "execution_count": 8,
     "metadata": {},
     "output_type": "execute_result"
    }
   ],
   "source": [
    "df.describe()"
   ]
  },
  {
   "cell_type": "code",
   "execution_count": null,
   "metadata": {},
   "outputs": [],
   "source": [
    "df[\"published_at\"].head()"
   ]
  },
  {
   "cell_type": "code",
   "execution_count": null,
   "metadata": {},
   "outputs": [],
   "source": [
    "# cast to datetime\n",
    "df[\"published_at\"] = pd.to_datetime(df[\"published_at\"])\n"
   ]
  },
  {
   "cell_type": "code",
   "execution_count": null,
   "metadata": {},
   "outputs": [],
   "source": [
    "df[\"status_changed_at\"] = pd.to_datetime(df[\"status_changed_at\"])"
   ]
  },
  {
   "cell_type": "code",
   "execution_count": null,
   "metadata": {},
   "outputs": [],
   "source": [
    "df[\"length_of_stay\"] = (df[\"status_changed_at\"] - df[\"published_at\"]).dt.days"
   ]
  },
  {
   "cell_type": "code",
   "execution_count": null,
   "metadata": {},
   "outputs": [],
   "source": [
    "df.describe()"
   ]
  },
  {
   "cell_type": "code",
   "execution_count": null,
   "metadata": {},
   "outputs": [],
   "source": [
    "# explode the breeds column\n",
    "df_breeds = df[\"breeds\"].apply(pd.Series)\n",
    "df_breeds.columns = [f\"breed_{col}\" for col in df_breeds.columns]\n"
   ]
  },
  {
   "cell_type": "code",
   "execution_count": null,
   "metadata": {},
   "outputs": [],
   "source": [
    "df_breeds.head()"
   ]
  },
  {
   "cell_type": "code",
   "execution_count": null,
   "metadata": {},
   "outputs": [],
   "source": [
    "df = pd.concat([df.drop([\"breeds\"], axis=1), df_breeds], axis=1)"
   ]
  },
  {
   "cell_type": "code",
   "execution_count": null,
   "metadata": {},
   "outputs": [],
   "source": [
    "df.head()"
   ]
  },
  {
   "cell_type": "code",
   "execution_count": null,
   "metadata": {},
   "outputs": [],
   "source": [
    "df[\"breed_primary\"].value_counts()"
   ]
  },
  {
   "cell_type": "code",
   "execution_count": null,
   "metadata": {},
   "outputs": [],
   "source": [
    "df_agg = df.groupby(\"breed_primary\")[\"length_of_stay\"].agg([\"median\", \"count\"])"
   ]
  },
  {
   "cell_type": "code",
   "execution_count": null,
   "metadata": {},
   "outputs": [],
   "source": [
    "df_agg"
   ]
  },
  {
   "cell_type": "code",
   "execution_count": null,
   "metadata": {},
   "outputs": [],
   "source": [
    "# many rare breeds\n",
    "df_agg[\"count\"].hist(range=(0,500), bins=20)"
   ]
  },
  {
   "cell_type": "code",
   "execution_count": null,
   "metadata": {},
   "outputs": [],
   "source": [
    "# remove rare breeds\n",
    "df_agg.loc[df_agg[\"count\"]>25].sort_values(by=\"median\", ascending=False).head(50)"
   ]
  },
  {
   "cell_type": "code",
   "execution_count": null,
   "metadata": {},
   "outputs": [],
   "source": [
    "# remove rare breeds\n",
    "df_agg.loc[df_agg[\"count\"]>25].sort_values(by=\"median\", ascending=False).tail(50)"
   ]
  },
  {
   "cell_type": "code",
   "execution_count": null,
   "metadata": {},
   "outputs": [],
   "source": [
    "df_agg.columns"
   ]
  },
  {
   "cell_type": "code",
   "execution_count": null,
   "metadata": {},
   "outputs": [],
   "source": [
    "df_agg.plot.scatter(x=\"count\", y=\"median\")"
   ]
  },
  {
   "cell_type": "code",
   "execution_count": null,
   "metadata": {},
   "outputs": [],
   "source": [
    "# take the 25 most frequent breeds\n",
    "df_common_breeds = df_agg.sort_values(by=\"count\", ascending=False).head(25)"
   ]
  },
  {
   "cell_type": "code",
   "execution_count": null,
   "metadata": {},
   "outputs": [],
   "source": [
    "fig, ax = plt.subplots()\n",
    "ax.scatter(df_common_breeds[\"count\"], df_common_breeds[\"median\"])\n",
    "for i, txt in enumerate(df_common_breeds.index):\n",
    "    ax.annotate(txt, (df_common_breeds[\"count\"].iloc[i], df_common_breeds[\"median\"].iloc[i]))\n",
    "plt.xlabel(\"Count of Dogs\")\n",
    "plt.ylabel(\"Median Duration of Stay (days)\")\n",
    "plt.title(\"Shelter Duration of 25 Most Common Primary Breeds\")"
   ]
  },
  {
   "cell_type": "code",
   "execution_count": null,
   "metadata": {},
   "outputs": [],
   "source": []
  },
  {
   "cell_type": "code",
   "execution_count": null,
   "metadata": {},
   "outputs": [],
   "source": [
    "top_breeds = df_common_breeds.index"
   ]
  },
  {
   "cell_type": "code",
   "execution_count": null,
   "metadata": {},
   "outputs": [],
   "source": [
    "df_limited_to_common = df.loc[df[\"breed_primary\"].isin(top_breeds), :]"
   ]
  },
  {
   "cell_type": "code",
   "execution_count": null,
   "metadata": {},
   "outputs": [],
   "source": [
    "# sort medians per breed\n",
    "medians = df_limited_to_common.groupby(\"breed_primary\")[\"length_of_stay\"].median().sort_values(ascending=False)"
   ]
  },
  {
   "cell_type": "code",
   "execution_count": null,
   "metadata": {},
   "outputs": [],
   "source": []
  },
  {
   "cell_type": "code",
   "execution_count": null,
   "metadata": {},
   "outputs": [],
   "source": [
    "ax = sns.boxplot(y=\"breed_primary\", x=\"length_of_stay\", data=df_limited_to_common, showfliers=False, order=medians.index)\n",
    "# plt.xticks(rotation=90)"
   ]
  },
  {
   "cell_type": "code",
   "execution_count": null,
   "metadata": {},
   "outputs": [],
   "source": []
  }
 ],
 "metadata": {
  "interpreter": {
   "hash": "a4b8b30545f5d65175c89d8b33afca65e1f9aa03e972311ddac705e77798068f"
  },
  "kernelspec": {
   "display_name": "Python 3 (ipykernel)",
   "language": "python",
   "name": "python3"
  },
  "language_info": {
   "codemirror_mode": {
    "name": "ipython",
    "version": 3
   },
   "file_extension": ".py",
   "mimetype": "text/x-python",
   "name": "python",
   "nbconvert_exporter": "python",
   "pygments_lexer": "ipython3",
   "version": "3.9.12"
  }
 },
 "nbformat": 4,
 "nbformat_minor": 2
}
